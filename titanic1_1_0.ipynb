{
  "cells": [
    {
      "cell_type": "markdown",
      "metadata": {
        "id": "view-in-github",
        "colab_type": "text"
      },
      "source": [
        "<a href=\"https://colab.research.google.com/github/LeonardoFOliveira/ia-para-devs-tech-challenge-fase2/blob/main/titanic1_1_0.ipynb\" target=\"_parent\"><img src=\"https://colab.research.google.com/assets/colab-badge.svg\" alt=\"Open In Colab\"/></a>"
      ]
    },
    {
      "cell_type": "code",
      "execution_count": 2,
      "metadata": {
        "colab": {
          "base_uri": "https://localhost:8080/"
        },
        "id": "AdD51wsxZEZC",
        "outputId": "8f3c2a0f-cb86-4b80-e2d2-f6e84405b3f9"
      },
      "outputs": [
        {
          "output_type": "stream",
          "name": "stdout",
          "text": [
            "Collecting deap\n",
            "  Downloading deap-1.4.1-cp310-cp310-manylinux_2_5_x86_64.manylinux1_x86_64.manylinux_2_17_x86_64.manylinux2014_x86_64.whl.metadata (13 kB)\n",
            "Requirement already satisfied: numpy in /usr/local/lib/python3.10/dist-packages (from deap) (1.26.4)\n",
            "Downloading deap-1.4.1-cp310-cp310-manylinux_2_5_x86_64.manylinux1_x86_64.manylinux_2_17_x86_64.manylinux2014_x86_64.whl (135 kB)\n",
            "\u001b[?25l   \u001b[90m━━━━━━━━━━━━━━━━━━━━━━━━━━━━━━━━━━━━━━━━\u001b[0m \u001b[32m0.0/135.4 kB\u001b[0m \u001b[31m?\u001b[0m eta \u001b[36m-:--:--\u001b[0m\r\u001b[2K   \u001b[90m━━━━━━━━━━━━━━━━━━━━━━━━━━━━━━━━━━━━━━━━\u001b[0m \u001b[32m135.4/135.4 kB\u001b[0m \u001b[31m11.0 MB/s\u001b[0m eta \u001b[36m0:00:00\u001b[0m\n",
            "\u001b[?25hInstalling collected packages: deap\n",
            "Successfully installed deap-1.4.1\n",
            "Requirement already satisfied: tensorflow in /usr/local/lib/python3.10/dist-packages (2.15.0)\n",
            "Requirement already satisfied: absl-py>=1.0.0 in /usr/local/lib/python3.10/dist-packages (from tensorflow) (1.4.0)\n",
            "Requirement already satisfied: astunparse>=1.6.0 in /usr/local/lib/python3.10/dist-packages (from tensorflow) (1.6.3)\n",
            "Requirement already satisfied: flatbuffers>=23.5.26 in /usr/local/lib/python3.10/dist-packages (from tensorflow) (24.3.25)\n",
            "Requirement already satisfied: gast!=0.5.0,!=0.5.1,!=0.5.2,>=0.2.1 in /usr/local/lib/python3.10/dist-packages (from tensorflow) (0.6.0)\n",
            "Requirement already satisfied: google-pasta>=0.1.1 in /usr/local/lib/python3.10/dist-packages (from tensorflow) (0.2.0)\n",
            "Requirement already satisfied: h5py>=2.9.0 in /usr/local/lib/python3.10/dist-packages (from tensorflow) (3.11.0)\n",
            "Requirement already satisfied: libclang>=13.0.0 in /usr/local/lib/python3.10/dist-packages (from tensorflow) (18.1.1)\n",
            "Requirement already satisfied: ml-dtypes~=0.2.0 in /usr/local/lib/python3.10/dist-packages (from tensorflow) (0.2.0)\n",
            "Requirement already satisfied: numpy<2.0.0,>=1.23.5 in /usr/local/lib/python3.10/dist-packages (from tensorflow) (1.26.4)\n",
            "Requirement already satisfied: opt-einsum>=2.3.2 in /usr/local/lib/python3.10/dist-packages (from tensorflow) (3.3.0)\n",
            "Requirement already satisfied: packaging in /usr/local/lib/python3.10/dist-packages (from tensorflow) (24.1)\n",
            "Requirement already satisfied: protobuf!=4.21.0,!=4.21.1,!=4.21.2,!=4.21.3,!=4.21.4,!=4.21.5,<5.0.0dev,>=3.20.3 in /usr/local/lib/python3.10/dist-packages (from tensorflow) (3.20.3)\n",
            "Requirement already satisfied: setuptools in /usr/local/lib/python3.10/dist-packages (from tensorflow) (71.0.4)\n",
            "Requirement already satisfied: six>=1.12.0 in /usr/local/lib/python3.10/dist-packages (from tensorflow) (1.16.0)\n",
            "Requirement already satisfied: termcolor>=1.1.0 in /usr/local/lib/python3.10/dist-packages (from tensorflow) (2.4.0)\n",
            "Requirement already satisfied: typing-extensions>=3.6.6 in /usr/local/lib/python3.10/dist-packages (from tensorflow) (4.12.2)\n",
            "Requirement already satisfied: wrapt<1.15,>=1.11.0 in /usr/local/lib/python3.10/dist-packages (from tensorflow) (1.14.1)\n",
            "Requirement already satisfied: tensorflow-io-gcs-filesystem>=0.23.1 in /usr/local/lib/python3.10/dist-packages (from tensorflow) (0.37.1)\n",
            "Requirement already satisfied: grpcio<2.0,>=1.24.3 in /usr/local/lib/python3.10/dist-packages (from tensorflow) (1.64.1)\n",
            "Requirement already satisfied: tensorboard<2.16,>=2.15 in /usr/local/lib/python3.10/dist-packages (from tensorflow) (2.15.2)\n",
            "Requirement already satisfied: tensorflow-estimator<2.16,>=2.15.0 in /usr/local/lib/python3.10/dist-packages (from tensorflow) (2.15.0)\n",
            "Requirement already satisfied: keras<2.16,>=2.15.0 in /usr/local/lib/python3.10/dist-packages (from tensorflow) (2.15.0)\n",
            "Requirement already satisfied: wheel<1.0,>=0.23.0 in /usr/local/lib/python3.10/dist-packages (from astunparse>=1.6.0->tensorflow) (0.43.0)\n",
            "Requirement already satisfied: google-auth<3,>=1.6.3 in /usr/local/lib/python3.10/dist-packages (from tensorboard<2.16,>=2.15->tensorflow) (2.27.0)\n",
            "Requirement already satisfied: google-auth-oauthlib<2,>=0.5 in /usr/local/lib/python3.10/dist-packages (from tensorboard<2.16,>=2.15->tensorflow) (1.2.1)\n",
            "Requirement already satisfied: markdown>=2.6.8 in /usr/local/lib/python3.10/dist-packages (from tensorboard<2.16,>=2.15->tensorflow) (3.6)\n",
            "Requirement already satisfied: requests<3,>=2.21.0 in /usr/local/lib/python3.10/dist-packages (from tensorboard<2.16,>=2.15->tensorflow) (2.31.0)\n",
            "Requirement already satisfied: tensorboard-data-server<0.8.0,>=0.7.0 in /usr/local/lib/python3.10/dist-packages (from tensorboard<2.16,>=2.15->tensorflow) (0.7.2)\n",
            "Requirement already satisfied: werkzeug>=1.0.1 in /usr/local/lib/python3.10/dist-packages (from tensorboard<2.16,>=2.15->tensorflow) (3.0.3)\n",
            "Requirement already satisfied: cachetools<6.0,>=2.0.0 in /usr/local/lib/python3.10/dist-packages (from google-auth<3,>=1.6.3->tensorboard<2.16,>=2.15->tensorflow) (5.4.0)\n",
            "Requirement already satisfied: pyasn1-modules>=0.2.1 in /usr/local/lib/python3.10/dist-packages (from google-auth<3,>=1.6.3->tensorboard<2.16,>=2.15->tensorflow) (0.4.0)\n",
            "Requirement already satisfied: rsa<5,>=3.1.4 in /usr/local/lib/python3.10/dist-packages (from google-auth<3,>=1.6.3->tensorboard<2.16,>=2.15->tensorflow) (4.9)\n",
            "Requirement already satisfied: requests-oauthlib>=0.7.0 in /usr/local/lib/python3.10/dist-packages (from google-auth-oauthlib<2,>=0.5->tensorboard<2.16,>=2.15->tensorflow) (1.3.1)\n",
            "Requirement already satisfied: charset-normalizer<4,>=2 in /usr/local/lib/python3.10/dist-packages (from requests<3,>=2.21.0->tensorboard<2.16,>=2.15->tensorflow) (3.3.2)\n",
            "Requirement already satisfied: idna<4,>=2.5 in /usr/local/lib/python3.10/dist-packages (from requests<3,>=2.21.0->tensorboard<2.16,>=2.15->tensorflow) (3.7)\n",
            "Requirement already satisfied: urllib3<3,>=1.21.1 in /usr/local/lib/python3.10/dist-packages (from requests<3,>=2.21.0->tensorboard<2.16,>=2.15->tensorflow) (2.0.7)\n",
            "Requirement already satisfied: certifi>=2017.4.17 in /usr/local/lib/python3.10/dist-packages (from requests<3,>=2.21.0->tensorboard<2.16,>=2.15->tensorflow) (2024.7.4)\n",
            "Requirement already satisfied: MarkupSafe>=2.1.1 in /usr/local/lib/python3.10/dist-packages (from werkzeug>=1.0.1->tensorboard<2.16,>=2.15->tensorflow) (2.1.5)\n",
            "Requirement already satisfied: pyasn1<0.7.0,>=0.4.6 in /usr/local/lib/python3.10/dist-packages (from pyasn1-modules>=0.2.1->google-auth<3,>=1.6.3->tensorboard<2.16,>=2.15->tensorflow) (0.6.0)\n",
            "Requirement already satisfied: oauthlib>=3.0.0 in /usr/local/lib/python3.10/dist-packages (from requests-oauthlib>=0.7.0->google-auth-oauthlib<2,>=0.5->tensorboard<2.16,>=2.15->tensorflow) (3.2.2)\n",
            "Requirement already satisfied: scikit-learn in /usr/local/lib/python3.10/dist-packages (1.3.2)\n",
            "Requirement already satisfied: numpy<2.0,>=1.17.3 in /usr/local/lib/python3.10/dist-packages (from scikit-learn) (1.26.4)\n",
            "Requirement already satisfied: scipy>=1.5.0 in /usr/local/lib/python3.10/dist-packages (from scikit-learn) (1.13.1)\n",
            "Requirement already satisfied: joblib>=1.1.1 in /usr/local/lib/python3.10/dist-packages (from scikit-learn) (1.4.2)\n",
            "Requirement already satisfied: threadpoolctl>=2.0.0 in /usr/local/lib/python3.10/dist-packages (from scikit-learn) (3.5.0)\n",
            "Requirement already satisfied: pandas in /usr/local/lib/python3.10/dist-packages (2.1.4)\n",
            "Requirement already satisfied: numpy<2,>=1.22.4 in /usr/local/lib/python3.10/dist-packages (from pandas) (1.26.4)\n",
            "Requirement already satisfied: python-dateutil>=2.8.2 in /usr/local/lib/python3.10/dist-packages (from pandas) (2.8.2)\n",
            "Requirement already satisfied: pytz>=2020.1 in /usr/local/lib/python3.10/dist-packages (from pandas) (2024.1)\n",
            "Requirement already satisfied: tzdata>=2022.1 in /usr/local/lib/python3.10/dist-packages (from pandas) (2024.1)\n",
            "Requirement already satisfied: six>=1.5 in /usr/local/lib/python3.10/dist-packages (from python-dateutil>=2.8.2->pandas) (1.16.0)\n",
            "Requirement already satisfied: numpy in /usr/local/lib/python3.10/dist-packages (1.26.4)\n",
            "Requirement already satisfied: matplotlib in /usr/local/lib/python3.10/dist-packages (3.7.1)\n",
            "Requirement already satisfied: contourpy>=1.0.1 in /usr/local/lib/python3.10/dist-packages (from matplotlib) (1.2.1)\n",
            "Requirement already satisfied: cycler>=0.10 in /usr/local/lib/python3.10/dist-packages (from matplotlib) (0.12.1)\n",
            "Requirement already satisfied: fonttools>=4.22.0 in /usr/local/lib/python3.10/dist-packages (from matplotlib) (4.53.1)\n",
            "Requirement already satisfied: kiwisolver>=1.0.1 in /usr/local/lib/python3.10/dist-packages (from matplotlib) (1.4.5)\n",
            "Requirement already satisfied: numpy>=1.20 in /usr/local/lib/python3.10/dist-packages (from matplotlib) (1.26.4)\n",
            "Requirement already satisfied: packaging>=20.0 in /usr/local/lib/python3.10/dist-packages (from matplotlib) (24.1)\n",
            "Requirement already satisfied: pillow>=6.2.0 in /usr/local/lib/python3.10/dist-packages (from matplotlib) (9.4.0)\n",
            "Requirement already satisfied: pyparsing>=2.3.1 in /usr/local/lib/python3.10/dist-packages (from matplotlib) (3.1.2)\n",
            "Requirement already satisfied: python-dateutil>=2.7 in /usr/local/lib/python3.10/dist-packages (from matplotlib) (2.8.2)\n",
            "Requirement already satisfied: six>=1.5 in /usr/local/lib/python3.10/dist-packages (from python-dateutil>=2.7->matplotlib) (1.16.0)\n"
          ]
        }
      ],
      "source": [
        "!pip install deap\n",
        "!pip install tensorflow\n",
        "!pip install scikit-learn\n",
        "!pip install pandas\n",
        "!pip install numpy\n",
        "!pip install matplotlib\n",
        "\n"
      ]
    },
    {
      "cell_type": "code",
      "execution_count": 3,
      "metadata": {
        "colab": {
          "base_uri": "https://localhost:8080/"
        },
        "id": "0kGVk8uBaf-V",
        "outputId": "47b7e5d8-7abf-4335-dc45-ce7de890bf18"
      },
      "outputs": [
        {
          "output_type": "stream",
          "name": "stdout",
          "text": [
            "Requirement already satisfied: IPython in /usr/local/lib/python3.10/dist-packages (7.34.0)\n",
            "Requirement already satisfied: setuptools>=18.5 in /usr/local/lib/python3.10/dist-packages (from IPython) (71.0.4)\n",
            "Collecting jedi>=0.16 (from IPython)\n",
            "  Downloading jedi-0.19.1-py2.py3-none-any.whl.metadata (22 kB)\n",
            "Requirement already satisfied: decorator in /usr/local/lib/python3.10/dist-packages (from IPython) (4.4.2)\n",
            "Requirement already satisfied: pickleshare in /usr/local/lib/python3.10/dist-packages (from IPython) (0.7.5)\n",
            "Requirement already satisfied: traitlets>=4.2 in /usr/local/lib/python3.10/dist-packages (from IPython) (5.7.1)\n",
            "Requirement already satisfied: prompt-toolkit!=3.0.0,!=3.0.1,<3.1.0,>=2.0.0 in /usr/local/lib/python3.10/dist-packages (from IPython) (3.0.47)\n",
            "Requirement already satisfied: pygments in /usr/local/lib/python3.10/dist-packages (from IPython) (2.16.1)\n",
            "Requirement already satisfied: backcall in /usr/local/lib/python3.10/dist-packages (from IPython) (0.2.0)\n",
            "Requirement already satisfied: matplotlib-inline in /usr/local/lib/python3.10/dist-packages (from IPython) (0.1.7)\n",
            "Requirement already satisfied: pexpect>4.3 in /usr/local/lib/python3.10/dist-packages (from IPython) (4.9.0)\n",
            "Requirement already satisfied: parso<0.9.0,>=0.8.3 in /usr/local/lib/python3.10/dist-packages (from jedi>=0.16->IPython) (0.8.4)\n",
            "Requirement already satisfied: ptyprocess>=0.5 in /usr/local/lib/python3.10/dist-packages (from pexpect>4.3->IPython) (0.7.0)\n",
            "Requirement already satisfied: wcwidth in /usr/local/lib/python3.10/dist-packages (from prompt-toolkit!=3.0.0,!=3.0.1,<3.1.0,>=2.0.0->IPython) (0.2.13)\n",
            "Downloading jedi-0.19.1-py2.py3-none-any.whl (1.6 MB)\n",
            "\u001b[?25l   \u001b[90m━━━━━━━━━━━━━━━━━━━━━━━━━━━━━━━━━━━━━━━━\u001b[0m \u001b[32m0.0/1.6 MB\u001b[0m \u001b[31m?\u001b[0m eta \u001b[36m-:--:--\u001b[0m\r\u001b[2K   \u001b[90m━━━━━━━━━━━━━━━━━━━━━━━━━━━━━━━━━━━━━━━━\u001b[0m \u001b[32m1.6/1.6 MB\u001b[0m \u001b[31m67.1 MB/s\u001b[0m eta \u001b[36m0:00:00\u001b[0m\n",
            "\u001b[?25hInstalling collected packages: jedi\n",
            "Successfully installed jedi-0.19.1\n",
            "\u001b[31mERROR: Could not find a version that satisfies the requirement time (from versions: none)\u001b[0m\u001b[31m\n",
            "\u001b[0m\u001b[31mERROR: No matching distribution found for time\u001b[0m\u001b[31m\n",
            "\u001b[0m\u001b[31mERROR: Could not find a version that satisfies the requirement random (from versions: none)\u001b[0m\u001b[31m\n",
            "\u001b[0m\u001b[31mERROR: No matching distribution found for random\u001b[0m\u001b[31m\n",
            "\u001b[0mRequirement already satisfied: seaborn in /usr/local/lib/python3.10/dist-packages (0.13.1)\n",
            "Requirement already satisfied: numpy!=1.24.0,>=1.20 in /usr/local/lib/python3.10/dist-packages (from seaborn) (1.26.4)\n",
            "Requirement already satisfied: pandas>=1.2 in /usr/local/lib/python3.10/dist-packages (from seaborn) (2.1.4)\n",
            "Requirement already satisfied: matplotlib!=3.6.1,>=3.4 in /usr/local/lib/python3.10/dist-packages (from seaborn) (3.7.1)\n",
            "Requirement already satisfied: contourpy>=1.0.1 in /usr/local/lib/python3.10/dist-packages (from matplotlib!=3.6.1,>=3.4->seaborn) (1.2.1)\n",
            "Requirement already satisfied: cycler>=0.10 in /usr/local/lib/python3.10/dist-packages (from matplotlib!=3.6.1,>=3.4->seaborn) (0.12.1)\n",
            "Requirement already satisfied: fonttools>=4.22.0 in /usr/local/lib/python3.10/dist-packages (from matplotlib!=3.6.1,>=3.4->seaborn) (4.53.1)\n",
            "Requirement already satisfied: kiwisolver>=1.0.1 in /usr/local/lib/python3.10/dist-packages (from matplotlib!=3.6.1,>=3.4->seaborn) (1.4.5)\n",
            "Requirement already satisfied: packaging>=20.0 in /usr/local/lib/python3.10/dist-packages (from matplotlib!=3.6.1,>=3.4->seaborn) (24.1)\n",
            "Requirement already satisfied: pillow>=6.2.0 in /usr/local/lib/python3.10/dist-packages (from matplotlib!=3.6.1,>=3.4->seaborn) (9.4.0)\n",
            "Requirement already satisfied: pyparsing>=2.3.1 in /usr/local/lib/python3.10/dist-packages (from matplotlib!=3.6.1,>=3.4->seaborn) (3.1.2)\n",
            "Requirement already satisfied: python-dateutil>=2.7 in /usr/local/lib/python3.10/dist-packages (from matplotlib!=3.6.1,>=3.4->seaborn) (2.8.2)\n",
            "Requirement already satisfied: pytz>=2020.1 in /usr/local/lib/python3.10/dist-packages (from pandas>=1.2->seaborn) (2024.1)\n",
            "Requirement already satisfied: tzdata>=2022.1 in /usr/local/lib/python3.10/dist-packages (from pandas>=1.2->seaborn) (2024.1)\n",
            "Requirement already satisfied: six>=1.5 in /usr/local/lib/python3.10/dist-packages (from python-dateutil>=2.7->matplotlib!=3.6.1,>=3.4->seaborn) (1.16.0)\n"
          ]
        }
      ],
      "source": [
        "!pip install IPython\n",
        "!pip install time\n",
        "!pip install random\n",
        "!pip install seaborn"
      ]
    },
    {
      "cell_type": "markdown",
      "metadata": {
        "id": "PttEKAy_ZD6v"
      },
      "source": [
        "1"
      ]
    },
    {
      "cell_type": "code",
      "execution_count": 4,
      "metadata": {
        "id": "6YXhkcVuZD6y"
      },
      "outputs": [],
      "source": [
        "import numpy as np\n",
        "import pandas as pd\n",
        "import tensorflow as tf\n",
        "from tensorflow.keras.models import Sequential\n",
        "from tensorflow.keras.layers import Dense\n",
        "from tensorflow.keras.optimizers import Adam, SGD, RMSprop\n",
        "from sklearn.model_selection import train_test_split, cross_val_score, StratifiedKFold\n",
        "from sklearn.preprocessing import StandardScaler, LabelEncoder\n",
        "from sklearn.metrics import accuracy_score, classification_report, confusion_matrix\n",
        "from sklearn.neighbors import KNeighborsClassifier\n",
        "from sklearn.ensemble import RandomForestClassifier\n",
        "from sklearn.svm import SVC\n",
        "from sklearn.naive_bayes import GaussianNB\n",
        "from deap import base, creator, tools, algorithms\n",
        "import random\n",
        "import matplotlib.pyplot as plt\n",
        "from IPython.display import clear_output\n",
        "import time\n",
        "import seaborn as sns\n",
        "\n",
        "epochs_per_generation = 5\n",
        "generations = 10\n",
        "\n",
        "# Classe para armazenar os melhores genes e plotar os resultados\n",
        "class DynamicPlotCallback(tf.keras.callbacks.Callback):\n",
        "    def __init__(self, generation, epoch, gene_log):\n",
        "        self.epoch_losses = []\n",
        "        self.epoch_accuracies = []\n",
        "        self.generation = generation\n",
        "        self.epoch = epoch\n",
        "        self.gene_log = gene_log\n",
        "\n",
        "    def on_epoch_end(self, epoch, logs=None):\n",
        "        self.epoch_losses.append(logs['loss'])\n",
        "        self.epoch_accuracies.append(logs['accuracy'])\n",
        "        # Armazenar genes dos epochs com melhor acurácia\n",
        "        if len(self.epoch_accuracies) == 0 or logs['accuracy'] > max(self.epoch_accuracies):\n",
        "            self.gene_log.append((self.generation, self.epoch, logs['accuracy']))\n",
        "\n",
        "\n"
      ]
    },
    {
      "cell_type": "markdown",
      "metadata": {
        "id": "9udrzaX2ZD62"
      },
      "source": [
        "2"
      ]
    },
    {
      "cell_type": "code",
      "execution_count": 5,
      "metadata": {
        "id": "Z5Pfln0AZD62"
      },
      "outputs": [],
      "source": [
        "# Carregar os dados\n",
        "def load_titanic_data():\n",
        "    url = \"https://web.stanford.edu/class/archive/cs/cs109/cs109.1166/stuff/titanic.csv\"\n",
        "    data = pd.read_csv(url)\n",
        "\n",
        "    # Remover colunas que não serão usadas\n",
        "    data = data.drop(['Name'], axis=1)\n",
        "\n",
        "    # Tratar valores ausentes\n",
        "    data = data.dropna()\n",
        "\n",
        "    # Codificar colunas categóricas\n",
        "    label_encoder = LabelEncoder()\n",
        "    data['Sex'] = label_encoder.fit_transform(data['Sex'])\n",
        "\n",
        "    if 'Embarked' in data.columns:\n",
        "        data['Embarked'] = label_encoder.fit_transform(data['Embarked'])\n",
        "\n",
        "    # Separar dados de entrada e saída\n",
        "    X = data.drop('Survived', axis=1).values\n",
        "    y = data['Survived'].values\n",
        "\n",
        "    # Normalizar dados de entrada\n",
        "    scaler = StandardScaler()\n",
        "    X = scaler.fit_transform(X)\n",
        "\n",
        "    # Dividir dados em treino e teste\n",
        "    return train_test_split(X, y, test_size=0.2, random_state=42)\n",
        "\n",
        "X_train, X_test, y_train, y_test = load_titanic_data()\n"
      ]
    },
    {
      "cell_type": "markdown",
      "metadata": {
        "id": "q1j9O4NNZD62"
      },
      "source": [
        "3"
      ]
    },
    {
      "cell_type": "code",
      "execution_count": 6,
      "metadata": {
        "id": "5me4j5FTZD63"
      },
      "outputs": [],
      "source": [
        "# Funções para treinar classificadores\n",
        "def train_knn(X_train, y_train, X_test):\n",
        "    knn = KNeighborsClassifier(n_neighbors=5)\n",
        "    knn.fit(X_train, y_train)\n",
        "    return knn\n",
        "\n",
        "def train_random_forest(X_train, y_train, X_test):\n",
        "    rf = RandomForestClassifier(n_estimators=100, random_state=42)\n",
        "    rf.fit(X_train, y_train)\n",
        "    return rf\n",
        "\n",
        "def train_svm(X_train, y_train, X_test):\n",
        "    svm = SVC(kernel='linear', random_state=42)\n",
        "    svm.fit(X_train, y_train)\n",
        "    return svm\n",
        "\n",
        "def train_naive_bayes(X_train, y_train, X_test):\n",
        "    nb = GaussianNB()\n",
        "    nb.fit(X_train, y_train)\n",
        "    return nb\n",
        "\n"
      ]
    },
    {
      "cell_type": "markdown",
      "metadata": {
        "id": "ZZ3bMLp0ZD63"
      },
      "source": [
        "4"
      ]
    },
    {
      "cell_type": "code",
      "execution_count": 7,
      "metadata": {
        "id": "9OmbSt7lZD63"
      },
      "outputs": [],
      "source": [
        "# Função para criar o modelo de rede neural\n",
        "def create_model(units, layers, optimizer):\n",
        "    model = Sequential()\n",
        "    model.add(Dense(units=units, activation='relu', input_shape=(X_train.shape[1],)))\n",
        "    for _ in range(layers - 1):\n",
        "        model.add(Dense(units=units, activation='relu'))\n",
        "    model.add(Dense(units=1, activation='sigmoid'))\n",
        "    model.compile(optimizer=optimizer, loss='binary_crossentropy', metrics=['accuracy'])\n",
        "    return model\n",
        "\n",
        "# Função de avaliação para o algoritmo genético\n",
        "def evaluate(individual):\n",
        "    units, layers, optimizer_idx = individual\n",
        "    optimizers = [Adam(), SGD(), RMSprop()]\n",
        "    optimizer = optimizers[optimizer_idx]\n",
        "    gene_log = []\n",
        "    callback = DynamicPlotCallback(generation=generation, epoch=epoch, gene_log=gene_log)\n",
        "    model = create_model(units, layers, optimizer)\n",
        "    start_time = time.time()\n",
        "    model.fit(X_train, y_train, epochs=epochs_per_generation, batch_size=32, verbose=0, callbacks=[callback])\n",
        "    duration = time.time() - start_time\n",
        "    print(f'Training time for this individual: {duration:.2f} seconds')\n",
        "    loss, accuracy = model.evaluate(X_test, y_test, verbose=0)\n",
        "    return accuracy,\n",
        "\n",
        "\n"
      ]
    },
    {
      "cell_type": "markdown",
      "metadata": {
        "id": "ripcK5leZD63"
      },
      "source": [
        "4-a"
      ]
    },
    {
      "cell_type": "code",
      "execution_count": 10,
      "metadata": {
        "colab": {
          "base_uri": "https://localhost:8080/"
        },
        "id": "4_qCQB_GZD64",
        "outputId": "a9acec78-d1c1-4171-9a4e-d513227fe8fa"
      },
      "outputs": [
        {
          "output_type": "stream",
          "name": "stdout",
          "text": [
            "Simple NN Test Accuracy: 0.7528089880943298\n"
          ]
        }
      ],
      "source": [
        "# Função para treinar e avaliar uma rede neural simples\n",
        "def train_simple_nn(X_train, y_train, X_test, y_test):\n",
        "    model = Sequential()\n",
        "    model.add(Dense(units=64, activation='relu', input_shape=(X_train.shape[1],)))\n",
        "    model.add(Dense(units=32, activation='relu'))\n",
        "    model.add(Dense(units=1, activation='sigmoid'))\n",
        "    model.compile(optimizer=Adam(), loss='binary_crossentropy', metrics=['accuracy'])\n",
        "\n",
        "    # Treinar o modelo\n",
        "    model.fit(X_train, y_train, epochs=epochs_per_generation, batch_size=32, verbose=0)\n",
        "\n",
        "    # Avaliar o modelo\n",
        "    loss, accuracy = model.evaluate(X_test, y_test, verbose=0)\n",
        "    return model, accuracy\n",
        "\n",
        "# Treinar e avaliar a rede neural simples\n",
        "simple_nn_model, simple_nn_accuracy = train_simple_nn(X_train, y_train, X_test, y_test)\n",
        "print(\"Simple NN Test Accuracy:\", simple_nn_accuracy)\n",
        "\n",
        "\n",
        "\n"
      ]
    },
    {
      "cell_type": "markdown",
      "metadata": {
        "id": "JIoAvUKNZD64"
      },
      "source": [
        "5"
      ]
    },
    {
      "cell_type": "code",
      "execution_count": 11,
      "metadata": {
        "id": "RfTEjU-YZD64"
      },
      "outputs": [],
      "source": [
        "# Configuração do algoritmo genético\n",
        "creator.create(\"FitnessMax\", base.Fitness, weights=(1.0,))\n",
        "creator.create(\"Individual\", list, fitness=creator.FitnessMax)\n",
        "\n",
        "toolbox = base.Toolbox()\n",
        "toolbox.register(\"attr_int\", random.randint, 10, 100)  # Neurônios\n",
        "toolbox.register(\"attr_layers\", random.randint, 1, 3)  # Camadas\n",
        "toolbox.register(\"attr_optimizer\", random.randint, 0, 2)  # Otimizadores: 0=Adam, 1=SGD, 2=RMSprop\n",
        "toolbox.register(\"individual\", tools.initCycle, creator.Individual,\n",
        "                 (toolbox.attr_int, toolbox.attr_layers, toolbox.attr_optimizer), n=1)\n",
        "toolbox.register(\"population\", tools.initRepeat, list, toolbox.individual)\n",
        "\n",
        "toolbox.register(\"evaluate\", evaluate)\n",
        "toolbox.register(\"mate\", tools.cxTwoPoint)\n",
        "toolbox.register(\"mutate\", tools.mutFlipBit, indpb=0.1)\n",
        "toolbox.register(\"select\", tools.selTournament, tournsize=3)\n",
        "\n",
        "# Hall of Fame para armazenar os melhores indivíduos\n",
        "hof = tools.HallOfFame(1)\n",
        "\n",
        "\n",
        "\n"
      ]
    },
    {
      "cell_type": "markdown",
      "metadata": {
        "id": "9JQBH5G9ZD65"
      },
      "source": [
        "6"
      ]
    },
    {
      "cell_type": "code",
      "execution_count": 12,
      "metadata": {
        "colab": {
          "base_uri": "https://localhost:8080/"
        },
        "id": "He8XqOdEZD65",
        "outputId": "cbf53b0e-252d-44da-ce66-414864d1cf4b"
      },
      "outputs": [
        {
          "output_type": "stream",
          "name": "stdout",
          "text": [
            "Generation 1/10\n",
            "Training time for this individual: 1.14 seconds\n",
            "Training time for this individual: 1.95 seconds\n",
            "Training time for this individual: 2.19 seconds\n",
            "Training time for this individual: 1.05 seconds\n",
            "Training time for this individual: 1.95 seconds\n",
            "Training time for this individual: 2.03 seconds\n",
            "Training time for this individual: 1.16 seconds\n",
            "Training time for this individual: 1.78 seconds\n",
            "Training time for this individual: 2.81 seconds\n",
            "Training time for this individual: 1.21 seconds\n",
            "Training time for this individual: 1.90 seconds\n",
            "Training time for this individual: 0.90 seconds\n",
            "Training time for this individual: 1.71 seconds\n",
            "Training time for this individual: 1.20 seconds\n",
            "Training time for this individual: 1.41 seconds\n",
            "Training time for this individual: 2.00 seconds\n",
            "Training time for this individual: 1.54 seconds\n",
            "Training time for this individual: 1.35 seconds\n",
            "Generation 2/10\n",
            "Training time for this individual: 1.52 seconds\n",
            "Training time for this individual: 1.52 seconds\n",
            "Training time for this individual: 1.53 seconds\n",
            "Training time for this individual: 1.98 seconds\n",
            "Training time for this individual: 2.39 seconds\n",
            "Training time for this individual: 2.60 seconds\n",
            "Training time for this individual: 1.62 seconds\n",
            "Training time for this individual: 1.04 seconds\n",
            "Generation 3/10\n",
            "Training time for this individual: 1.97 seconds\n",
            "Training time for this individual: 1.99 seconds\n",
            "Training time for this individual: 2.12 seconds\n",
            "Training time for this individual: 1.54 seconds\n",
            "Generation 4/10\n",
            "Training time for this individual: 1.50 seconds\n",
            "Training time for this individual: 1.60 seconds\n",
            "Training time for this individual: 1.54 seconds\n",
            "Training time for this individual: 1.68 seconds\n",
            "Training time for this individual: 2.34 seconds\n",
            "Training time for this individual: 1.52 seconds\n",
            "Generation 5/10\n",
            "Training time for this individual: 1.98 seconds\n",
            "Training time for this individual: 1.53 seconds\n",
            "Training time for this individual: 1.56 seconds\n",
            "Training time for this individual: 2.15 seconds\n",
            "Training time for this individual: 2.33 seconds\n",
            "Training time for this individual: 2.04 seconds\n",
            "Training time for this individual: 1.53 seconds\n",
            "Generation 6/10\n",
            "Training time for this individual: 1.29 seconds\n",
            "Training time for this individual: 1.53 seconds\n",
            "Training time for this individual: 1.58 seconds\n",
            "Training time for this individual: 1.97 seconds\n",
            "Training time for this individual: 1.89 seconds\n",
            "Generation 7/10\n",
            "Training time for this individual: 1.98 seconds\n",
            "Training time for this individual: 1.52 seconds\n",
            "Training time for this individual: 1.98 seconds\n",
            "Training time for this individual: 1.57 seconds\n",
            "Generation 8/10\n",
            "Training time for this individual: 1.99 seconds\n",
            "Training time for this individual: 2.32 seconds\n",
            "Training time for this individual: 1.51 seconds\n",
            "Training time for this individual: 1.03 seconds\n",
            "Training time for this individual: 1.53 seconds\n",
            "Training time for this individual: 1.98 seconds\n",
            "Training time for this individual: 2.68 seconds\n",
            "Generation 9/10\n",
            "Training time for this individual: 2.06 seconds\n",
            "Training time for this individual: 1.64 seconds\n",
            "Training time for this individual: 1.98 seconds\n",
            "Training time for this individual: 1.57 seconds\n",
            "Training time for this individual: 1.50 seconds\n",
            "Training time for this individual: 1.97 seconds\n",
            "Generation 10/10\n",
            "Training time for this individual: 2.28 seconds\n",
            "Training time for this individual: 1.52 seconds\n",
            "Training time for this individual: 1.97 seconds\n",
            "Training time for this individual: 1.53 seconds\n",
            "Training time for this individual: 1.62 seconds\n",
            "Training time for this individual: 2.22 seconds\n",
            "Training time for this individual: 2.24 seconds\n",
            "Training time for this individual: 2.03 seconds\n",
            "Training time for this individual: 2.00 seconds\n",
            "Best individual units: 60\n",
            "Best individual layers: 3\n",
            "Best individual optimizer: Adam\n"
          ]
        }
      ],
      "source": [
        "# Executar o algoritmo genético\n",
        "population = toolbox.population(n=10)\n",
        "gene_log = []\n",
        "epoch = 0\n",
        "\n",
        "for generation in range(generations):\n",
        "    print(f\"Generation {generation+1}/{generations}\")\n",
        "    algorithms.eaSimple(population, toolbox, cxpb=0.5, mutpb=0.2, ngen=1, halloffame=hof, verbose=False)\n",
        "\n",
        "# Melhor indivíduo do Hall of Fame\n",
        "best_individual = hof[0]\n",
        "best_units, best_layers, best_optimizer_idx = best_individual\n",
        "print(\"Best individual units:\", best_units)\n",
        "print(\"Best individual layers:\", best_layers)\n",
        "print(\"Best individual optimizer:\", ['Adam', 'SGD', 'RMSprop'][best_optimizer_idx])\n",
        "\n",
        "\n",
        "\n",
        "\n"
      ]
    },
    {
      "cell_type": "markdown",
      "metadata": {
        "id": "HUikqqo7ZD65"
      },
      "source": [
        "7"
      ]
    },
    {
      "cell_type": "code",
      "execution_count": 13,
      "metadata": {
        "colab": {
          "base_uri": "https://localhost:8080/"
        },
        "id": "IuvCpXd_ZD65",
        "outputId": "d498f925-d505-4a0d-d23d-2b40947ee4f6"
      },
      "outputs": [
        {
          "output_type": "stream",
          "name": "stdout",
          "text": [
            "Genetic NN CV Accuracy: 0.8434621930122376\n",
            "Empty DataFrame\n",
            "Columns: [Generation, Epoch, Accuracy]\n",
            "Index: []\n"
          ]
        }
      ],
      "source": [
        "# Função para treinar a rede neural otimizada por algoritmo genético usando validação cruzada\n",
        "def evaluate_genetic_model(units, layers, optimizer_idx, X, y):\n",
        "    optimizers = [Adam(), SGD(), RMSprop()]\n",
        "    optimizer = optimizers[optimizer_idx]\n",
        "    gene_log = []\n",
        "    callback = DynamicPlotCallback(generation=generation, epoch=epoch, gene_log=gene_log)\n",
        "    model = create_model(units, layers, optimizer)\n",
        "    scores = []\n",
        "    for train_index, test_index in StratifiedKFold(n_splits=5).split(X, y):\n",
        "        X_train_fold, X_test_fold = X[train_index], X[test_index]\n",
        "        y_train_fold, y_test_fold = y[train_index], y[test_index]\n",
        "        model.fit(X_train_fold, y_train_fold, epochs=epochs_per_generation, batch_size=32, verbose=0, callbacks=[callback])\n",
        "        _, accuracy = model.evaluate(X_test_fold, y_test_fold, verbose=0)\n",
        "        scores.append(accuracy)\n",
        "    return np.mean(scores)\n",
        "\n",
        "# Avaliar a rede neural otimizada por algoritmo genético usando validação cruzada\n",
        "genetic_nn_cv_accuracy = evaluate_genetic_model(best_units, best_layers, best_optimizer_idx, X_train, y_train)\n",
        "print(\"Genetic NN CV Accuracy:\", genetic_nn_cv_accuracy)\n",
        "\n",
        "# Mostrar o head do dataframe com os melhores genes\n",
        "gene_df = pd.DataFrame(gene_log, columns=['Generation', 'Epoch', 'Accuracy'])\n",
        "print(gene_df.head())\n",
        "\n"
      ]
    },
    {
      "cell_type": "markdown",
      "metadata": {
        "id": "HLf4nREpZD65"
      },
      "source": [
        "8"
      ]
    },
    {
      "cell_type": "markdown",
      "metadata": {
        "id": "dAdgcG7G7jdy"
      },
      "source": [
        "8.1"
      ]
    },
    {
      "cell_type": "code",
      "execution_count": 14,
      "metadata": {
        "colab": {
          "base_uri": "https://localhost:8080/",
          "height": 638
        },
        "id": "S8OirjXC7jdz",
        "outputId": "15cc9b5d-4ef2-4a6d-820f-c502394ab198"
      },
      "outputs": [
        {
          "output_type": "stream",
          "name": "stdout",
          "text": [
            "KNN CV Accuracy: 0.8053541104784736\n",
            "KNN Test Accuracy: 0.7808988764044944\n",
            "KNN Classification Report:\n",
            "               precision    recall  f1-score   support\n",
            "\n",
            "           0       0.82      0.83      0.83       111\n",
            "           1       0.71      0.70      0.71        67\n",
            "\n",
            "    accuracy                           0.78       178\n",
            "   macro avg       0.77      0.77      0.77       178\n",
            "weighted avg       0.78      0.78      0.78       178\n",
            "\n"
          ]
        },
        {
          "output_type": "display_data",
          "data": {
            "text/plain": [
              "<Figure size 640x480 with 2 Axes>"
            ],
            "image/png": "[encoded data removed]"
          },
          "metadata": {}
        }
      ],
      "source": [
        "# Treinar e avaliar KNN com validação cruzada\n",
        "knn = train_knn(X_train, y_train, X_test)\n",
        "knn_cv_scores = cross_val_score(knn, X_train, y_train, cv=5)\n",
        "knn_cv_accuracy = knn_cv_scores.mean()\n",
        "knn_predictions = knn.predict(X_test)\n",
        "knn_accuracy = accuracy_score(y_test, knn_predictions)\n",
        "print(\"KNN CV Accuracy:\", knn_cv_accuracy)\n",
        "print(\"KNN Test Accuracy:\", knn_accuracy)\n",
        "print(\"KNN Classification Report:\\n\", classification_report(y_test, knn_predictions))\n",
        "\n",
        "# Matriz de confusão\n",
        "cf_matrix = confusion_matrix(y_test, knn_predictions)\n",
        "cf_matrix\n",
        "sns.heatmap(cf_matrix, cmap='coolwarm', annot=True, linewidth=1, fmt='d')\n",
        "plt.show()"
      ]
    },
    {
      "cell_type": "markdown",
      "metadata": {
        "id": "Dzi5BsGu7jdz"
      },
      "source": [
        "8.2"
      ]
    },
    {
      "cell_type": "code",
      "execution_count": 15,
      "metadata": {
        "colab": {
          "base_uri": "https://localhost:8080/",
          "height": 638
        },
        "id": "3uCS3nhG7jdz",
        "outputId": "89bda640-f644-4595-a2ff-675b4bd08769"
      },
      "outputs": [
        {
          "output_type": "stream",
          "name": "stdout",
          "text": [
            "Random Forest CV Accuracy: 0.8152332434322244\n",
            "Random Forest Test Accuracy: 0.7696629213483146\n",
            "Random Forest Classification Report:\n",
            "               precision    recall  f1-score   support\n",
            "\n",
            "           0       0.81      0.83      0.82       111\n",
            "           1       0.70      0.67      0.69        67\n",
            "\n",
            "    accuracy                           0.77       178\n",
            "   macro avg       0.76      0.75      0.75       178\n",
            "weighted avg       0.77      0.77      0.77       178\n",
            "\n"
          ]
        },
        {
          "output_type": "display_data",
          "data": {
            "text/plain": [
              "<Figure size 640x480 with 2 Axes>"
            ],
            "image/png": "[encoded data removed]"
          },
          "metadata": {}
        }
      ],
      "source": [
        "# Treinar e avaliar Random Forest com validação cruzada\n",
        "rf = train_random_forest(X_train, y_train, X_test)\n",
        "rf_cv_scores = cross_val_score(rf, X_train, y_train, cv=5)\n",
        "rf_cv_accuracy = rf_cv_scores.mean()\n",
        "rf_predictions = rf.predict(X_test)\n",
        "rf_accuracy = accuracy_score(y_test, rf_predictions)\n",
        "print(\"Random Forest CV Accuracy:\", rf_cv_accuracy)\n",
        "print(\"Random Forest Test Accuracy:\", rf_accuracy)\n",
        "print(\"Random Forest Classification Report:\\n\", classification_report(y_test, rf_predictions))\n",
        "\n",
        "# Matriz de confusão\n",
        "cf_matrix = confusion_matrix(y_test, rf_predictions)\n",
        "cf_matrix\n",
        "sns.heatmap(cf_matrix, cmap='coolwarm', annot=True, linewidth=1, fmt='d')\n",
        "plt.show()"
      ]
    },
    {
      "cell_type": "markdown",
      "metadata": {
        "id": "ElzGXN557jdz"
      },
      "source": [
        "8.3"
      ]
    },
    {
      "cell_type": "code",
      "execution_count": 16,
      "metadata": {
        "colab": {
          "base_uri": "https://localhost:8080/",
          "height": 638
        },
        "id": "bfaRjzDM7jdz",
        "outputId": "c57fc008-e8f1-4eea-ea64-b011f2f0c204"
      },
      "outputs": [
        {
          "output_type": "stream",
          "name": "stdout",
          "text": [
            "SVM CV Accuracy: 0.796923384277295\n",
            "SVM Test Accuracy: 0.7415730337078652\n",
            "SVM Classification Report:\n",
            "               precision    recall  f1-score   support\n",
            "\n",
            "           0       0.76      0.86      0.81       111\n",
            "           1       0.71      0.54      0.61        67\n",
            "\n",
            "    accuracy                           0.74       178\n",
            "   macro avg       0.73      0.70      0.71       178\n",
            "weighted avg       0.74      0.74      0.73       178\n",
            "\n"
          ]
        },
        {
          "output_type": "display_data",
          "data": {
            "text/plain": [
              "<Figure size 640x480 with 2 Axes>"
            ],
            "image/png": "[encoded data removed]"
          },
          "metadata": {}
        }
      ],
      "source": [
        "# Treinar e avaliar SVM com validação cruzada\n",
        "svm = train_svm(X_train, y_train, X_test)\n",
        "svm_cv_scores = cross_val_score(svm, X_train, y_train, cv=5)\n",
        "svm_cv_accuracy = svm_cv_scores.mean()\n",
        "svm_predictions = svm.predict(X_test)\n",
        "svm_accuracy = accuracy_score(y_test, svm_predictions)\n",
        "print(\"SVM CV Accuracy:\", svm_cv_accuracy)\n",
        "print(\"SVM Test Accuracy:\", svm_accuracy)\n",
        "print(\"SVM Classification Report:\\n\", classification_report(y_test, svm_predictions))\n",
        "\n",
        "# Matriz de confusão\n",
        "cf_matrix = confusion_matrix(y_test, svm_predictions)\n",
        "cf_matrix\n",
        "sns.heatmap(cf_matrix, cmap='coolwarm', annot=True, linewidth=1, fmt='d')\n",
        "plt.show()"
      ]
    },
    {
      "cell_type": "markdown",
      "metadata": {
        "id": "8geEI8H97jdz"
      },
      "source": [
        "8.4"
      ]
    },
    {
      "cell_type": "code",
      "execution_count": 17,
      "metadata": {
        "colab": {
          "base_uri": "https://localhost:8080/",
          "height": 638
        },
        "id": "8M09gW_EZD65",
        "outputId": "ccc1a6e7-235a-45e7-b8f4-dc8983e59a98"
      },
      "outputs": [
        {
          "output_type": "stream",
          "name": "stdout",
          "text": [
            "Naive Bayes CV Accuracy: 0.8010788133053641\n",
            "Naive Bayes Test Accuracy: 0.7359550561797753\n",
            "Naive Bayes Classification Report:\n",
            "               precision    recall  f1-score   support\n",
            "\n",
            "           0       0.75      0.86      0.80       111\n",
            "           1       0.69      0.54      0.61        67\n",
            "\n",
            "    accuracy                           0.74       178\n",
            "   macro avg       0.72      0.70      0.70       178\n",
            "weighted avg       0.73      0.74      0.73       178\n",
            "\n"
          ]
        },
        {
          "output_type": "display_data",
          "data": {
            "text/plain": [
              "<Figure size 640x480 with 2 Axes>"
            ],
            "image/png": "[encoded data removed]"
          },
          "metadata": {}
        }
      ],
      "source": [
        "# Treinar e avaliar Naive Bayes com validação cruzada\n",
        "nb = train_naive_bayes(X_train, y_train, X_test)\n",
        "nb_cv_scores = cross_val_score(nb, X_train, y_train, cv=5)\n",
        "nb_cv_accuracy = nb_cv_scores.mean()\n",
        "nb_predictions = nb.predict(X_test)\n",
        "nb_accuracy = accuracy_score(y_test, nb_predictions)\n",
        "print(\"Naive Bayes CV Accuracy:\", nb_cv_accuracy)\n",
        "print(\"Naive Bayes Test Accuracy:\", nb_accuracy)\n",
        "print(\"Naive Bayes Classification Report:\\n\", classification_report(y_test, nb_predictions))\n",
        "\n",
        "# Matriz de confusão\n",
        "cf_matrix = confusion_matrix(y_test, nb_predictions)\n",
        "cf_matrix\n",
        "sns.heatmap(cf_matrix, cmap='coolwarm', annot=True, linewidth=1, fmt='d')\n",
        "plt.show()"
      ]
    },
    {
      "cell_type": "markdown",
      "metadata": {
        "id": "Y2_90oQxZD66"
      },
      "source": [
        "9"
      ]
    },
    {
      "cell_type": "code",
      "execution_count": 18,
      "metadata": {
        "colab": {
          "base_uri": "https://localhost:8080/",
          "height": 607
        },
        "id": "9jBYvbbfZD66",
        "outputId": "84e19c08-4790-4f3a-9019-296128eff6e0"
      },
      "outputs": [
        {
          "output_type": "display_data",
          "data": {
            "text/plain": [
              "<Figure size 1400x600 with 2 Axes>"
            ],
            "image/png": "[encoded data removed]"
          },
          "metadata": {}
        }
      ],
      "source": [
        "# Plotar gráficos de acurácia\n",
        "classifiers = ['KNN', 'Random Forest', 'SVM', 'Naive Bayes', 'Genetic NN']\n",
        "test_accuracies = [knn_accuracy, rf_accuracy, svm_accuracy, nb_accuracy, genetic_nn_cv_accuracy]\n",
        "cv_accuracies = [knn_cv_accuracy, rf_cv_accuracy, svm_cv_accuracy, nb_cv_accuracy, genetic_nn_cv_accuracy]\n",
        "\n",
        "plt.figure(figsize=(14, 6))\n",
        "\n",
        "plt.subplot(1, 2, 1)\n",
        "plt.bar(classifiers, test_accuracies, color=['blue', 'green', 'red', 'purple', 'orange'])\n",
        "plt.xlabel('Classificador')\n",
        "plt.ylabel('Acurácia')\n",
        "plt.title('Acurácia dos Classificadores (Teste)')\n",
        "plt.ylim(0, 1)\n",
        "for i, acc in enumerate(test_accuracies):\n",
        "    plt.text(i, acc + 0.01, f'{acc:.2f}', ha='center', va='bottom')\n",
        "\n",
        "plt.subplot(1, 2, 2)\n",
        "plt.bar(classifiers, cv_accuracies, color=['blue', 'green', 'red', 'purple', 'orange'])\n",
        "plt.xlabel('Classificador')\n",
        "plt.ylabel('Acurácia')\n",
        "plt.title('Acurácia dos Classificadores (Validação Cruzada)')\n",
        "plt.ylim(0, 1)\n",
        "for i, acc in enumerate(cv_accuracies):\n",
        "    plt.text(i, acc + 0.01, f'{acc:.2f}', ha='center', va='bottom')\n",
        "\n",
        "plt.tight_layout()\n",
        "plt.show()\n",
        "\n"
      ]
    }
  ],
  "metadata": {
    "accelerator": "GPU",
    "colab": {
      "gpuType": "T4",
      "provenance": [],
      "include_colab_link": true
    },
    "kernelspec": {
      "display_name": "Python 3",
      "name": "python3"
    },
    "language_info": {
      "codemirror_mode": {
        "name": "ipython",
        "version": 3
      },
      "file_extension": ".py",
      "mimetype": "text/x-python",
      "name": "python",
      "nbconvert_exporter": "python",
      "pygments_lexer": "ipython3",
      "version": "3.12.2"
    }
  },
  "nbformat": 4,
  "nbformat_minor": 0
}